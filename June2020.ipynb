{
  "nbformat": 4,
  "nbformat_minor": 0,
  "metadata": {
    "colab": {
      "name": "June2020.ipynb",
      "provenance": [],
      "authorship_tag": "ABX9TyMStfdnOQhPwaQiJQQWX7Gl",
      "include_colab_link": true
    },
    "kernelspec": {
      "name": "python3",
      "display_name": "Python 3"
    }
  },
  "cells": [
    {
      "cell_type": "markdown",
      "metadata": {
        "id": "view-in-github",
        "colab_type": "text"
      },
      "source": [
        "<a href=\"https://colab.research.google.com/github/jens18/docker-images/blob/master/June2020.ipynb\" target=\"_parent\"><img src=\"https://colab.research.google.com/assets/colab-badge.svg\" alt=\"Open In Colab\"/></a>"
      ]
    },
    {
      "cell_type": "code",
      "metadata": {
        "id": "TGusI0VBlC_d",
        "colab_type": "code",
        "colab": {
          "base_uri": "https://localhost:8080/",
          "height": 86
        },
        "outputId": "1d7f90d4-c176-4941-ac6e-346512a3cd20"
      },
      "source": [
        "%%sh\n",
        "\n",
        "# Note 1: manual merge of the 06/12: 321 + 196 = 517\n",
        "# Note 2: manual rename 'usage (N)' to 'usage_1/2'\n",
        "\n",
        "cat <<EOF > june1.csv\n",
        "\"id (S)\",\"service (S)\",\"subscriberCode (S)\",\"usage_1\"\n",
        "\"aab24849-ec08-454b-b563-947ccd2424b5/2020-06-01/build-data\",\"build-data\",\"aab24849-ec08-454b-b563-947ccd2424b5\",\"176\"                                \n",
        "\"aab24849-ec08-454b-b563-947ccd2424b5/2020-06-02/build-data\",\"build-data\",\"aab24849-ec08-454b-b563-947ccd2424b5\",\"443\"                                \n",
        "\"aab24849-ec08-454b-b563-947ccd2424b5/2020-06-03/build-data\",\"build-data\",\"aab24849-ec08-454b-b563-947ccd2424b5\",\"359\"                                \n",
        "\"aab24849-ec08-454b-b563-947ccd2424b5/2020-06-04/build-data\",\"build-data\",\"aab24849-ec08-454b-b563-947ccd2424b5\",\"458\"                                \n",
        "\"aab24849-ec08-454b-b563-947ccd2424b5/2020-06-05/build-data\",\"build-data\",\"aab24849-ec08-454b-b563-947ccd2424b5\",\"421\"                                \n",
        "\"aab24849-ec08-454b-b563-947ccd2424b5/2020-06-06/build-data\",\"build-data\",\"aab24849-ec08-454b-b563-947ccd2424b5\",\"438\"                                \n",
        "\"aab24849-ec08-454b-b563-947ccd2424b5/2020-06-07/build-data\",\"build-data\",\"aab24849-ec08-454b-b563-947ccd2424b5\",\"157\"                                \n",
        "\"aab24849-ec08-454b-b563-947ccd2424b5/2020-06-08/build-data\",\"build-data\",\"aab24849-ec08-454b-b563-947ccd2424b5\",\"197\"                                \n",
        "\"aab24849-ec08-454b-b563-947ccd2424b5/2020-06-09/build-data\",\"build-data\",\"aab24849-ec08-454b-b563-947ccd2424b5\",\"351\"                                \n",
        "\"aab24849-ec08-454b-b563-947ccd2424b5/2020-06-10/build-data\",\"build-data\",\"aab24849-ec08-454b-b563-947ccd2424b5\",\"608\"                                \n",
        "\"aab24849-ec08-454b-b563-947ccd2424b5/2020-06-11/build-data\",\"build-data\",\"aab24849-ec08-454b-b563-947ccd2424b5\",\"607\"                                \n",
        "EOF\n",
        "\n",
        "cat <<EOF > june2.csv\n",
        "\"id (S)\",\"aggregationType (S)\",\"date (S)\",\"service (S)\",\"subscriberCode (S)\",\"usage_2\"\n",
        "\"aab24849-ec08-454b-b563-947ccd2424b5/2020-06-12/build-data\",\"day\",\"2020-06-12\",\"build-data\",\"aab24849-ec08-454b-b563-947ccd2424b5\",\"517\"             \n",
        "\"aab24849-ec08-454b-b563-947ccd2424b5/2020-06-13/build-data\",\"day\",\"2020-06-13\",\"build-data\",\"aab24849-ec08-454b-b563-947ccd2424b5\",\"424\"             \n",
        "\"aab24849-ec08-454b-b563-947ccd2424b5/2020-06-14/build-data\",\"day\",\"2020-06-14\",\"build-data\",\"aab24849-ec08-454b-b563-947ccd2424b5\",\"181\"             \n",
        "\"aab24849-ec08-454b-b563-947ccd2424b5/2020-06-15/build-data\",\"day\",\"2020-06-15\",\"build-data\",\"aab24849-ec08-454b-b563-947ccd2424b5\",\"177\"             \n",
        "\"aab24849-ec08-454b-b563-947ccd2424b5/2020-06-16/build-data\",\"day\",\"2020-06-16\",\"build-data\",\"aab24849-ec08-454b-b563-947ccd2424b5\",\"568\"             \n",
        "\"aab24849-ec08-454b-b563-947ccd2424b5/2020-06-17/build-data\",\"day\",\"2020-06-17\",\"build-data\",\"aab24849-ec08-454b-b563-947ccd2424b5\",\"637\"             \n",
        "\"aab24849-ec08-454b-b563-947ccd2424b5/2020-06-18/build-data\",\"day\",\"2020-06-18\",\"build-data\",\"aab24849-ec08-454b-b563-947ccd2424b5\",\"650\"             \n",
        "\"aab24849-ec08-454b-b563-947ccd2424b5/2020-06-19/build-data\",\"day\",\"2020-06-19\",\"build-data\",\"aab24849-ec08-454b-b563-947ccd2424b5\",\"619\"             \n",
        "\"aab24849-ec08-454b-b563-947ccd2424b5/2020-06-20/build-data\",\"day\",\"2020-06-20\",\"build-data\",\"aab24849-ec08-454b-b563-947ccd2424b5\",\"563\"             \n",
        "\"aab24849-ec08-454b-b563-947ccd2424b5/2020-06-21/build-data\",\"day\",\"2020-06-21\",\"build-data\",\"aab24849-ec08-454b-b563-947ccd2424b5\",\"202\"             \n",
        "\"aab24849-ec08-454b-b563-947ccd2424b5/2020-06-22/build-data\",\"day\",\"2020-06-22\",\"build-data\",\"aab24849-ec08-454b-b563-947ccd2424b5\",\"232\"             \n",
        "\"aab24849-ec08-454b-b563-947ccd2424b5/2020-06-23/build-data\",\"day\",\"2020-06-23\",\"build-data\",\"aab24849-ec08-454b-b563-947ccd2424b5\",\"615\"             \n",
        "\"aab24849-ec08-454b-b563-947ccd2424b5/2020-06-24/build-data\",\"day\",\"2020-06-24\",\"build-data\",\"aab24849-ec08-454b-b563-947ccd2424b5\",\"538\"             \n",
        "\"aab24849-ec08-454b-b563-947ccd2424b5/2020-06-25/build-data\",\"day\",\"2020-06-25\",\"build-data\",\"aab24849-ec08-454b-b563-947ccd2424b5\",\"601\"             \n",
        "\"aab24849-ec08-454b-b563-947ccd2424b5/2020-06-26/build-data\",\"day\",\"2020-06-26\",\"build-data\",\"aab24849-ec08-454b-b563-947ccd2424b5\",\"686\"             \n",
        "\"aab24849-ec08-454b-b563-947ccd2424b5/2020-06-27/build-data\",\"day\",\"2020-06-27\",\"build-data\",\"aab24849-ec08-454b-b563-947ccd2424b5\",\"476\"             \n",
        "\"aab24849-ec08-454b-b563-947ccd2424b5/2020-06-28/build-data\",\"day\",\"2020-06-28\",\"build-data\",\"aab24849-ec08-454b-b563-947ccd2424b5\",\"268\"             \n",
        "\"aab24849-ec08-454b-b563-947ccd2424b5/2020-06-29/build-data\",\"day\",\"2020-06-29\",\"build-data\",\"aab24849-ec08-454b-b563-947ccd2424b5\",\"203\"             \n",
        "\"aab24849-ec08-454b-b563-947ccd2424b5/2020-06-30/build-data\",\"day\",\"2020-06-30\",\"build-data\",\"aab24849-ec08-454b-b563-947ccd2424b5\",\"679\" \n",
        "EOF\n",
        "\n",
        "ls -l\n"
      ],
      "execution_count": 11,
      "outputs": [
        {
          "output_type": "stream",
          "text": [
            "total 12\n",
            "-rw-r--r-- 1 root root 1715 Jul  9 04:07 june1.csv\n",
            "-rw-r--r-- 1 root root 2944 Jul  9 04:07 june2.csv\n",
            "drwxr-xr-x 1 root root 4096 Jun 26 16:26 sample_data\n"
          ],
          "name": "stdout"
        }
      ]
    },
    {
      "cell_type": "code",
      "metadata": {
        "id": "4pjHn8trluqI",
        "colab_type": "code",
        "colab": {
          "base_uri": "https://localhost:8080/",
          "height": 607
        },
        "outputId": "263ef4be-a69c-4cb5-8135-9a8e82544585"
      },
      "source": [
        "import pandas as pd\n",
        "\n",
        "df1 = pd.read_csv('june1.csv')\n",
        "df2 = pd.read_csv('june2.csv')\n",
        "\n",
        "# add date column for df1 (derived from id (S))\n",
        "# https://stackoverflow.com/questions/37333299/splitting-a-column-by-delimiter-pandas-python\n",
        "df1[\"date (S)\"] = df1[\"id (S)\"].str.split(\"/\").str[1]\n",
        "df1 = df1.set_index(\"date (S)\", drop = False)\n",
        "df1.drop(['id (S)'], axis=1, inplace=True)\n",
        "\n",
        "df2.drop(['id (S)'], axis=1, inplace=True)\n",
        "df2 = df2.set_index(\"date (S)\", drop = False)\n",
        "df2.drop(['aggregationType (S)'], axis=1, inplace=True)\n",
        "\n",
        "df = df1.append(df2)\n",
        "print(df.columns)\n",
        "#df[\"usage\"] = df[\"usage_1\"] + df[\"usage_2\"]\n",
        "df[\"usage\"] = df[\"usage_1\"].combine_first(df[\"usage_2\"]).astype(\"int\")\n",
        "print(df[\"usage\"])\n",
        "df[\"usage\"].sum()\n"
      ],
      "execution_count": 22,
      "outputs": [
        {
          "output_type": "stream",
          "text": [
            "Index(['service (S)', 'subscriberCode (S)', 'usage_1', 'date (S)', 'usage_2'], dtype='object')\n",
            "date (S)\n",
            "2020-06-01    176\n",
            "2020-06-02    443\n",
            "2020-06-03    359\n",
            "2020-06-04    458\n",
            "2020-06-05    421\n",
            "2020-06-06    438\n",
            "2020-06-07    157\n",
            "2020-06-08    197\n",
            "2020-06-09    351\n",
            "2020-06-10    608\n",
            "2020-06-11    607\n",
            "2020-06-12    517\n",
            "2020-06-13    424\n",
            "2020-06-14    181\n",
            "2020-06-15    177\n",
            "2020-06-16    568\n",
            "2020-06-17    637\n",
            "2020-06-18    650\n",
            "2020-06-19    619\n",
            "2020-06-20    563\n",
            "2020-06-21    202\n",
            "2020-06-22    232\n",
            "2020-06-23    615\n",
            "2020-06-24    538\n",
            "2020-06-25    601\n",
            "2020-06-26    686\n",
            "2020-06-27    476\n",
            "2020-06-28    268\n",
            "2020-06-29    203\n",
            "2020-06-30    679\n",
            "Name: usage, dtype: int64\n"
          ],
          "name": "stdout"
        },
        {
          "output_type": "execute_result",
          "data": {
            "text/plain": [
              "13051"
            ]
          },
          "metadata": {
            "tags": []
          },
          "execution_count": 22
        }
      ]
    },
    {
      "cell_type": "code",
      "metadata": {
        "id": "BUuLWFOznp7G",
        "colab_type": "code",
        "colab": {}
      },
      "source": [
        ""
      ],
      "execution_count": null,
      "outputs": []
    }
  ]
}